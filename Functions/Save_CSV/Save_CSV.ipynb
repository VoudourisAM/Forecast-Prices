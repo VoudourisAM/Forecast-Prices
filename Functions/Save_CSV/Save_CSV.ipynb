{
 "cells": [
  {
   "cell_type": "markdown",
   "id": "2161f137",
   "metadata": {},
   "source": [
    "---\n",
    "# Import Libraries"
   ]
  },
  {
   "cell_type": "code",
   "execution_count": 1,
   "id": "922a9cb0",
   "metadata": {},
   "outputs": [],
   "source": [
    "import pandas as pd"
   ]
  },
  {
   "cell_type": "markdown",
   "id": "9e8e0102",
   "metadata": {},
   "source": [
    "---\n",
    "### Function"
   ]
  },
  {
   "cell_type": "code",
   "execution_count": 2,
   "id": "f6f18bda",
   "metadata": {},
   "outputs": [],
   "source": [
    "def Save_CSV_File(dataframe, name_of_csv):\n",
    "    '''\n",
    "    This function save a dataframe as csv file\n",
    "    ------------------------------\n",
    "    Parameter(dataframe): Name of dataframe\n",
    "    Parameter(name_of_csv): Name of csv file\n",
    "    ------------------------------\n",
    "    '''\n",
    "    \n",
    "    dataframe.to_csv('../Forecast_Prices/Data\\Binance_Data_Crypto/'+name_of_csv+'.csv') "
   ]
  },
  {
   "cell_type": "markdown",
   "id": "9e918e5d",
   "metadata": {},
   "source": [
    "---"
   ]
  },
  {
   "cell_type": "code",
   "execution_count": null,
   "id": "7246772c",
   "metadata": {},
   "outputs": [],
   "source": []
  }
 ],
 "metadata": {
  "kernelspec": {
   "display_name": "Python 3 (ipykernel)",
   "language": "python",
   "name": "python3"
  },
  "language_info": {
   "codemirror_mode": {
    "name": "ipython",
    "version": 3
   },
   "file_extension": ".py",
   "mimetype": "text/x-python",
   "name": "python",
   "nbconvert_exporter": "python",
   "pygments_lexer": "ipython3",
   "version": "3.11.9"
  }
 },
 "nbformat": 4,
 "nbformat_minor": 5
}
