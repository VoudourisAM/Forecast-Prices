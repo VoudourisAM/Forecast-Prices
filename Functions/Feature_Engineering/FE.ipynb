{
 "cells": [
  {
   "cell_type": "markdown",
   "id": "28fc37aa",
   "metadata": {},
   "source": [
    "---\n",
    "# Import Libraries"
   ]
  },
  {
   "cell_type": "code",
   "execution_count": 1,
   "id": "5bbb570b",
   "metadata": {},
   "outputs": [],
   "source": [
    "import pandas as pd\n",
    "import numpy as np"
   ]
  },
  {
   "cell_type": "markdown",
   "id": "b8fe9a2d",
   "metadata": {},
   "source": [
    "---\n",
    "### Feature Engineering\n",
    "* Log Returns\n",
    "* Moving Average\n",
    "* Rolling Standar Diviation\n",
    "* rolling_standar_diviation\n",
    "* Spread"
   ]
  },
  {
   "cell_type": "code",
   "execution_count": null,
   "id": "05eb7df3",
   "metadata": {},
   "outputs": [],
   "source": [
    "class Feature_Engineering:\n",
    "    \n",
    "#------------------------------------------------------------------------------------------------------------------------------#        \n",
    "    def Log_Return(dataframe, name_of_column):\n",
    "        dataframe[name_of_column+'_LG'] = np.log(dataframe[name_of_column] / dataframe[name_of_column].shift(1))\n",
    "        \n",
    "        return dataframe\n",
    "#------------------------------------------------------------------------------------------------------------------------------#    \n"
   ]
  },
  {
   "cell_type": "code",
   "execution_count": null,
   "id": "b9da926b",
   "metadata": {},
   "outputs": [],
   "source": []
  },
  {
   "cell_type": "code",
   "execution_count": null,
   "id": "7774bc11",
   "metadata": {},
   "outputs": [],
   "source": []
  }
 ],
 "metadata": {
  "kernelspec": {
   "display_name": "Python 3 (ipykernel)",
   "language": "python",
   "name": "python3"
  },
  "language_info": {
   "codemirror_mode": {
    "name": "ipython",
    "version": 3
   },
   "file_extension": ".py",
   "mimetype": "text/x-python",
   "name": "python",
   "nbconvert_exporter": "python",
   "pygments_lexer": "ipython3",
   "version": "3.11.9"
  }
 },
 "nbformat": 4,
 "nbformat_minor": 5
}
