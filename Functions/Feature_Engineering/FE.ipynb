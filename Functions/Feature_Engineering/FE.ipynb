{
 "cells": [
  {
   "cell_type": "markdown",
   "id": "28fc37aa",
   "metadata": {},
   "source": [
    "---\n",
    "# Import Libraries"
   ]
  },
  {
   "cell_type": "code",
   "execution_count": 3,
   "id": "5bbb570b",
   "metadata": {},
   "outputs": [],
   "source": [
    "import pandas as pd\n",
    "import numpy as np"
   ]
  },
  {
   "cell_type": "markdown",
   "id": "b8fe9a2d",
   "metadata": {},
   "source": [
    "---\n",
    "### Feature Engineering\n",
    "* Log Returns\n",
    "* Moving Average\n",
    "* Rolling Standar Diviation\n",
    "* Spread"
   ]
  },
  {
   "cell_type": "code",
   "execution_count": 4,
   "id": "05eb7df3",
   "metadata": {},
   "outputs": [],
   "source": [
    "class Feature_Engineering:\n",
    "    '''\n",
    "    This class generate new Dataframe of Feature Engineering\n",
    "    '''\n",
    "    \n",
    "    #Constuctor\n",
    "    def __init__(self, dataframe):\n",
    "        '''\n",
    "        Constructor of Feature_Engineering class\n",
    "        ------------------------------\n",
    "        Parameter(dataframe): DataFrame\n",
    "        ------------------------------\n",
    "        '''\n",
    "        \n",
    "        self.data = dataframe\n",
    "        \n",
    "#------------------------------------------------------------------------------------------------------------------------------#        \n",
    "    def Log_Return(self, name_of_column):\n",
    "        '''\n",
    "        This Function of Feature_Engineering return Dataframe with Log Return\n",
    "        ------------------------------\n",
    "        Parameter(dataframe): DataFrame\n",
    "        Parameter(name_of_column): LIST (One OR More) of dataframe column name \n",
    "        ------------------------------\n",
    "        '''\n",
    "        \n",
    "        try:\n",
    "            new_dataframe = self.data.copy()\n",
    "\n",
    "            for _ in range(len(name_of_column)):\n",
    "                new_dataframe[name_of_column[_]+'_Lg'] = np.log(new_dataframe[name_of_column[_]] / new_dataframe[name_of_column[_]].shift(1))\n",
    "            return new_dataframe\n",
    "        except:\n",
    "            print('No option!\\nError')\n",
    "#------------------------------------------------------------------------------------------------------------------------------#    \n",
    "    def Moving_Average(self, name_of_column, ma_number):\n",
    "        '''\n",
    "        This Function of Feature_Engineering return Dataframe with (Slow or Fast) Moving Average Return\n",
    "        -Fast Moving Average (FMA): Used for short-term trends, typically with smaller periods like 9, 12, or 20.\n",
    "        -Slow Moving Average (SMA): Used for long-term trends, typically with larger periods like 50, 100, or 200.\n",
    "        ------------------------------\n",
    "        Parameter(name_of_column): LIST (One OR More) of dataframe column name\n",
    "        Parameter(ma_number): Number of Moving Average\n",
    "        ------------------------------\n",
    "        '''\n",
    "        \n",
    "        try:\n",
    "            new_dataframe = self.data.copy()\n",
    "        \n",
    "            for _ in range(len(name_of_column)):\n",
    "                if (ma_number >=5 and ma_number <= 25):\n",
    "                    new_dataframe[name_of_column[_]+'_FMA_'+str(ma_number)] = new_dataframe[name_of_column[_]].rolling(window = ma_number).mean()\n",
    "                elif (ma_number >=40 and ma_number <= 250):\n",
    "                    new_dataframe[name_of_column[_]+'_SMA_'+str(ma_number)] = new_dataframe[name_of_column[_]].rolling(window = ma_number).mean()\n",
    "            return new_dataframe\n",
    "        except:\n",
    "            print('No option!\\nError')\n",
    "#------------------------------------------------------------------------------------------------------------------------------#    \n"
   ]
  },
  {
   "cell_type": "code",
   "execution_count": null,
   "id": "b9da926b",
   "metadata": {},
   "outputs": [],
   "source": []
  },
  {
   "cell_type": "code",
   "execution_count": null,
   "id": "7774bc11",
   "metadata": {},
   "outputs": [],
   "source": []
  }
 ],
 "metadata": {
  "kernelspec": {
   "display_name": "Python 3 (ipykernel)",
   "language": "python",
   "name": "python3"
  },
  "language_info": {
   "codemirror_mode": {
    "name": "ipython",
    "version": 3
   },
   "file_extension": ".py",
   "mimetype": "text/x-python",
   "name": "python",
   "nbconvert_exporter": "python",
   "pygments_lexer": "ipython3",
   "version": "3.11.9"
  }
 },
 "nbformat": 4,
 "nbformat_minor": 5
}
