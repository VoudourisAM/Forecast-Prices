{
 "cells": [
  {
   "cell_type": "markdown",
   "id": "2b4f97b7",
   "metadata": {},
   "source": [
    "---\n",
    "# Binance\n",
    "---\n",
    "* 1) Extract All Symbols from Binance\n",
    "* 2) Extract Symbols of Binance API\n",
    "---"
   ]
  },
  {
   "cell_type": "code",
   "execution_count": 1,
   "id": "5e3d7a98",
   "metadata": {},
   "outputs": [],
   "source": [
    "from binance.client import Client\n",
    "client = Client()\n",
    "    \n",
    "import pandas as pd\n",
    "import datetime"
   ]
  },
  {
   "cell_type": "code",
   "execution_count": 2,
   "id": "757012ca",
   "metadata": {},
   "outputs": [],
   "source": [
    "class Binance:\n",
    "    def Get_All_Coins_Info():\n",
    "        '''\n",
    "        This function RETURN list with Cryptocurrency Simbols of Binance\n",
    "        '''\n",
    "        \n",
    "        list_all_symbol_of_crypto = []\n",
    "        \n",
    "        #try:\n",
    "        print('--- Start Extract Data\\n.\\n.\\n.')\n",
    "        info_all_symbol_of_crypto = client.get_all_tickers()\n",
    "        info_all_symbol_of_crypto = pd.DataFrame(info_all_symbol_of_crypto) #DataFrame of information coins\n",
    "    \n",
    "        list_all_symbol_of_crypto = info_all_symbol_of_crypto.symbol.to_list()\n",
    "        print('--- End Extract Data')    \n",
    "        return list_all_symbol_of_crypto\n",
    "        #except:\n",
    "        #    print('No option!\\nError')\n",
    "    \n",
    "    def Get_Historical_Data_1Day(list_of_data):\n",
    "        '''\n",
    "        This function RETURN dataframe with data \n",
    "        From: 1 Jan, 2020\n",
    "        Until: 31 Dec, 2023\n",
    "        ------------------------------\n",
    "        Parameter(list_of_data): List of Coins\n",
    "        ------------------------------\n",
    "        '''\n",
    "        \n",
    "        dataframe = pd.date_range(start='01/01/2020' , end='31/12/2023', freq=\"1D\").to_frame()\n",
    "        dataframe.index.name = 'Open time'\n",
    "        dataframe.drop([0], axis=1, inplace=True)\n",
    "        \n",
    "        columns = ['Open time', 'Open', 'High', 'Low', 'Close', 'Volume', 'Close time', 'Quote asset volume', 'Number of trades', 'TB Base Vol', 'TB Quot Vol', 'Ignore']\n",
    "        \n",
    "        print('--- Start Extract Data\\n.\\n.\\n.')\n",
    "        \n",
    "        for i in range(len(list_of_data)):\n",
    "            try:\n",
    "                klines = pd.DataFrame(client.get_historical_klines(list_of_data[i], Client.KLINE_INTERVAL_1DAY, start_str=\"1 Jan, 2020\", end_str=\"31 Dec, 2023\"), columns=columns)\n",
    "                klines['Open time'] = pd.to_datetime(klines['Open time'], unit='ms')\n",
    "                #klines['Close time'] = pd.to_datetime(temp['Close time'], unit='ms')\n",
    "                klines.index = pd.to_datetime(klines['Open time'], unit='ms')\n",
    "                klines.drop(['Open time', 'Close time', 'Volume', 'Quote asset volume', 'Number of trades', 'TB Base Vol', 'TB Quot Vol', 'Ignore'], axis=1, inplace=True) #Delete columns\n",
    "\n",
    "                for j in range(len(klines.columns)): #Rename the columns\n",
    "                    klines.rename(columns={klines.columns[j] : list_of_data[i]+'_'+klines.columns[j]}, inplace=True) \n",
    "                dataframe = dataframe.join(klines)\n",
    "            except:\n",
    "                print('No option!\\nError')\n",
    "        \n",
    "        print('--- End Extract Data')\n",
    "        return dataframe"
   ]
  },
  {
   "cell_type": "markdown",
   "id": "b772a084",
   "metadata": {},
   "source": [
    "---\n",
    "# End Binance\n",
    "---"
   ]
  },
  {
   "cell_type": "code",
   "execution_count": null,
   "id": "14b2cccb",
   "metadata": {},
   "outputs": [],
   "source": []
  }
 ],
 "metadata": {
  "kernelspec": {
   "display_name": "Python 3 (ipykernel)",
   "language": "python",
   "name": "python3"
  },
  "language_info": {
   "codemirror_mode": {
    "name": "ipython",
    "version": 3
   },
   "file_extension": ".py",
   "mimetype": "text/x-python",
   "name": "python",
   "nbconvert_exporter": "python",
   "pygments_lexer": "ipython3",
   "version": "3.11.9"
  }
 },
 "nbformat": 4,
 "nbformat_minor": 5
}
