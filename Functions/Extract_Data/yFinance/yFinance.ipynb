{
 "cells": [
  {
   "cell_type": "markdown",
   "id": "f420d9eb",
   "metadata": {},
   "source": [
    "---\n",
    "# Finance\n",
    "---\n",
    "* 1) Extract All Symbols from Finance\n",
    "* 2) Extract Data of Finance\n",
    "---"
   ]
  },
  {
   "cell_type": "code",
   "execution_count": 1,
   "id": "51a6a996",
   "metadata": {},
   "outputs": [],
   "source": [
    "import yfinance as yf\n",
    "import pandas as pd"
   ]
  },
  {
   "cell_type": "code",
   "execution_count": 4,
   "id": "04ebcb08",
   "metadata": {},
   "outputs": [],
   "source": [
    "class Finance:\n",
    "    '''\n",
    "    The name class is Finance\n",
    "    Return Forex Data with name of Symbols\n",
    "    '''\n",
    "\n",
    "    def Get_Historical_Data_1Day_Forex(self):\n",
    "        '''\n",
    "        This function Get_Historical_Data_1Day_Forex() have list of symbols forex.\n",
    "        This Function Get_Historical_Data_1Day_Forex() return a dataframe with forex data (Open High , Low, Close).\n",
    "        '''\n",
    "        \n",
    "        # Define forex symbols\n",
    "        forex_symbols = ['EURUSD=X', 'USDJPY=X', 'GBPUSD=X', 'AUDUSD=X', 'USDCHF=X', 'USDCAD=X', 'NZDUSD=X',\n",
    "                         'EURGBP=X', 'EURJPY=X', 'GBPJPY=X', 'AUDJPY=X', 'EURAUD=X', 'CHFJPY=X',\n",
    "                         'USDSEK=X', 'USDNOK=X', 'USDTRY=X', 'EURTRY=X', 'USDZAR=X']\n",
    "    \n",
    "        # Initialize an empty DataFrame for merging the data\n",
    "        dataframe = pd.DataFrame()\n",
    "\n",
    "        # Loop through the first 3 forex symbols (adjust as needed)\n",
    "        for i in range(len(forex_symbols)):\n",
    "            # Download the data for the current forex symbol\n",
    "            klines = pd.DataFrame(yf.download(forex_symbols[i], start='2020-01-01', end='2023-12-31', interval=\"1d\"))\n",
    "        \n",
    "            # Flatten MultiIndex columns and remove the name\n",
    "            klines.columns = klines.columns.get_level_values(0)\n",
    "            klines.columns.name = None\n",
    "        \n",
    "            # Add 'Open time' as the index\n",
    "            klines['Open time'] = klines.index\n",
    "            klines.set_index(\"Open time\", inplace=True)\n",
    "        \n",
    "            # Convert the index to string format (YYYY-MM-DD)\n",
    "            klines.index = klines.index.strftime('%Y-%m-%d')\n",
    "        \n",
    "            # Select relevant columns\n",
    "            klines = klines[[\"Open\", \"High\", \"Low\", \"Close\"]]\n",
    "        \n",
    "            # Rename the columns to include the forex symbol\n",
    "            for j in range(len(klines.columns)):\n",
    "                klines.rename(columns={klines.columns[j]: forex_symbols[i][:-2] + '_' + klines.columns[j]}, inplace=True)\n",
    "\n",
    "            # Merge klines with the main DataFrame using a left join\n",
    "            if dataframe.empty:\n",
    "                dataframe = klines  # Initialize with the first klines DataFrame\n",
    "            else:\n",
    "                dataframe = dataframe.join(klines, how=\"left\")\n",
    "    \n",
    "        return dataframe"
   ]
  },
  {
   "cell_type": "markdown",
   "id": "9e51f298",
   "metadata": {},
   "source": [
    "---\n",
    "# End Finance\n",
    "---"
   ]
  },
  {
   "cell_type": "code",
   "execution_count": null,
   "id": "2afa4d63",
   "metadata": {},
   "outputs": [],
   "source": []
  }
 ],
 "metadata": {
  "kernelspec": {
   "display_name": "Python 3 (ipykernel)",
   "language": "python",
   "name": "python3"
  },
  "language_info": {
   "codemirror_mode": {
    "name": "ipython",
    "version": 3
   },
   "file_extension": ".py",
   "mimetype": "text/x-python",
   "name": "python",
   "nbconvert_exporter": "python",
   "pygments_lexer": "ipython3",
   "version": "3.11.9"
  }
 },
 "nbformat": 4,
 "nbformat_minor": 5
}
