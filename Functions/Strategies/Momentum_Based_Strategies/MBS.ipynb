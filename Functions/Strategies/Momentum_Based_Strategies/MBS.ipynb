{
 "cells": [
  {
   "cell_type": "markdown",
   "id": "bcaf3b9b",
   "metadata": {},
   "source": [
    "---\n",
    "# Import Libraries"
   ]
  },
  {
   "cell_type": "code",
   "execution_count": 1,
   "id": "1820e684",
   "metadata": {},
   "outputs": [],
   "source": [
    "import pandas as pd\n",
    "\n",
    "import matplotlib.pyplot as plt\n",
    "import mplcyberpunk as mplcp\n",
    "import seaborn as sns"
   ]
  },
  {
   "cell_type": "markdown",
   "id": "5f3dc553",
   "metadata": {},
   "source": [
    "---"
   ]
  },
  {
   "cell_type": "code",
   "execution_count": 3,
   "id": "807693d8",
   "metadata": {},
   "outputs": [],
   "source": [
    "def Plot_Relative_Strength_Index(dataframe, rsi_column_name):\n",
    "    '''\n",
    "    This function visualize a plot Relative Strength Index\n",
    "    ------------------------------\n",
    "    Parameter(dataframe): DataFrame\n",
    "    Parameter(rsi_column_name): Column Name\n",
    "    ------------------------------\n",
    "    '''\n",
    "    \n",
    "\n",
    "    try:\n",
    "        new_dataframe = dataframe.copy()\n",
    "        list_index = new_dataframe.index\n",
    "        list_index = pd.to_datetime(list_index)\n",
    "\n",
    "        plt.style.use(\"cyberpunk\")  # Background color\n",
    "        pal_red = sns.color_palette(\"flare\")  # Red color palette\n",
    "        pal_green = sns.color_palette(\"light:#5A9\")  # Green color palette\n",
    "        fig, ax1 = plt.subplots(figsize=(14, 7), tight_layout=True)  # Figure size\n",
    "\n",
    "        ax1.plot(list_index, new_dataframe[rsi_column_name].values, linewidth=1, color=pal_red[0])\n",
    "        mplcp.add_gradient_fill(alpha_gradientglow=0.3) #Glow - Effect lines\n",
    "    \n",
    "        ax1.axhline(30, linestyle='--', linewidth=1.5, color=pal_green[5])\n",
    "        ax1.axhline(70, linestyle='--', linewidth=1.5, color=pal_red[3])\n",
    "        ax1.text(list_index[0], 32, 'Buy', fontweight='bold', ha ='right', va ='center', fontsize=15) \n",
    "        ax1.text(list_index[0], 68, 'Sell', fontweight='bold', ha ='right', va ='center', fontsize=15) \n",
    "        \n",
    "        ax1.set_title('Relative Strength Index', fontdict={'fontsize':20})\n",
    "        plt.tick_params(axis='x', labelrotation=30, labelsize=15, width=10, length=3,  direction=\"in\", colors='White') #Rotation label x and y\n",
    "        plt.tick_params(axis='y', labelrotation=30, labelsize=15, colors='White') #Rotation label x and y\n",
    "        plt.grid(zorder=1, alpha=0.2, linestyle='--', linewidth=0.5, color='darkgrey') #Grid of plot\n",
    "\n",
    "        ax1.spines['top'].set_visible(False)\n",
    "        ax1.spines['right'].set_visible(False)\n",
    "        ax1.spines['left'].set_color('White')\n",
    "        ax1.spines['left'].set_linewidth(0.3)\n",
    "        ax1.spines['bottom'].set_color('White')\n",
    "        ax1.spines['bottom'].set_linewidth(0.3)\n",
    "        \n",
    "        plt.show()\n",
    "    except:\n",
    "        print('No option!\\nError')"
   ]
  },
  {
   "cell_type": "code",
   "execution_count": null,
   "id": "36df595b",
   "metadata": {},
   "outputs": [],
   "source": []
  }
 ],
 "metadata": {
  "kernelspec": {
   "display_name": "Python 3 (ipykernel)",
   "language": "python",
   "name": "python3"
  },
  "language_info": {
   "codemirror_mode": {
    "name": "ipython",
    "version": 3
   },
   "file_extension": ".py",
   "mimetype": "text/x-python",
   "name": "python",
   "nbconvert_exporter": "python",
   "pygments_lexer": "ipython3",
   "version": "3.11.9"
  }
 },
 "nbformat": 4,
 "nbformat_minor": 5
}
